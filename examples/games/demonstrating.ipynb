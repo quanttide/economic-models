{
 "cells": [
  {
   "cell_type": "code",
   "execution_count": 1,
   "metadata": {
    "collapsed": true
   },
   "outputs": [],
   "source": [
    "class NormalGame(object):\n",
    "    def __init__(self):\n",
    "        self.players = ['Player1','Player2','Player3']\n",
    "        self.actions = {\n",
    "            'Player1': ['U','D'],\n",
    "            'Player2': ['L','M','R'],\n",
    "            'Player3': ['T','B'],\n",
    "        }\n",
    "        self.payoffs = [\n",
    "             [\n",
    "              [(1,2,5),(0,0,9),(3,-1,10)],\n",
    "              [(0,0,7),(2,1,13),(3,-2,12)],\n",
    "             ],\n",
    "             [\n",
    "              [(0,0,6),(2,1,8),(-1,0,11)],\n",
    "              [(1,2,8),(0,0,6),(-2,0,12)],\n",
    "             ]\n",
    "            ]\n",
    "\n",
    "\n",
    "\n",
    "    def __str__(self):\n",
    "        data = '''\n",
    "        When Player 3 plays \"T\":\n",
    "                             Player 2\n",
    "                        L        M        R\n",
    "                   U (1,2,5)  (0,0,9)  (3,-1,10)\n",
    "          Player 1\n",
    "                   D (0,0,7)  (2,1,13) (3,-2,12)\n",
    "\n",
    "        When Player 3 plays \"B\":\n",
    "                                     Player 2\n",
    "                        L        M        R\n",
    "                   U (0,0,6)  (2,1,8)  (-1,0,11)\n",
    "          Player 1\n",
    "                   D (1,2,8)  (0,0,6) (-2,0,12)\n",
    "        '''\n",
    "        return data\n",
    "\n",
    "\n",
    "    def __repr__(self):\n",
    "        return self.__str__()\n",
    "\n",
    "    def to_extensive(self):\n",
    "        pass"
   ]
  },
  {
   "cell_type": "code",
   "execution_count": 2,
   "metadata": {},
   "outputs": [
    {
     "name": "stdout",
     "output_type": "stream",
     "text": [
      "\n        When Player 3 plays \"T\":\n                             Player 2\n                        L        M        R\n                   U (1,2,5)  (0,0,9)  (3,-1,10)\n          Player 1\n                   D (0,0,7)  (2,1,13) (3,-2,12)\n\n        When Player 3 plays \"B\":\n                                     Player 2\n                        L        M        R\n                   U (0,0,6)  (2,1,8)  (-1,0,11)\n          Player 1\n                   D (1,2,8)  (0,0,6) (-2,0,12)\n        \n"
     ]
    }
   ],
   "source": [
    "game = NormalGame()\n",
    "print(game)"
   ]
  },
  {
   "cell_type": "code",
   "execution_count": 5,
   "metadata": {},
   "outputs": [],
   "source": [
    "class ExtensiveGame(object):\n",
    "    def __init__(self):\n",
    "        pass\n",
    "\n",
    "    def __str__(self):\n",
    "        data = r\"\"\"\n",
    "                 Player 1\n",
    "              /           \\\n",
    "             Up          Down\n",
    "            /               \\\n",
    "        Player 2          Player 2\n",
    "         /   \\             /   \\\n",
    "       Left   Right      Left Right\n",
    "       /       \\         /       \\\n",
    "     (10)      (1)     (8)      (7)\n",
    "     (10)      (8)     (1)      (7)\n",
    "        \"\"\"\n",
    "        return data\n",
    "\n",
    "    def __repr__(self):\n",
    "        return self.__str__()\n",
    "\n",
    "    def to_normal(self):\n",
    "        pass"
   ]
  },
  {
   "cell_type": "code",
   "execution_count": 6,
   "metadata": {},
   "outputs": [
    {
     "name": "stdout",
     "output_type": "stream",
     "text": [
      "\n                 Player 1\n              /           \\\n             Up          Down\n            /               \\\n        Player 2          Player 2\n         /   \\             /   \\\n       Left   Right      Left Right\n       /       \\         /       \\\n     (10)      (1)     (8)      (7)\n     (10)      (8)     (1)      (7)\n        \n"
     ]
    }
   ],
   "source": [
    "game = ExtensiveGame()\n",
    "print(game)"
   ]
  },
  {
   "cell_type": "code",
   "execution_count": null,
   "metadata": {},
   "outputs": [],
   "source": [
    ""
   ]
  }
 ],
 "metadata": {
  "kernelspec": {
   "display_name": "Python 2",
   "language": "python",
   "name": "python2"
  },
  "language_info": {
   "codemirror_mode": {
    "name": "ipython",
    "version": 2.0
   },
   "file_extension": ".py",
   "mimetype": "text/x-python",
   "name": "python",
   "nbconvert_exporter": "python",
   "pygments_lexer": "ipython2",
   "version": "2.7.6"
  }
 },
 "nbformat": 4,
 "nbformat_minor": 0
}